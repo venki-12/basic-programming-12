{
 "cells": [
  {
   "cell_type": "code",
   "execution_count": 1,
   "metadata": {},
   "outputs": [],
   "source": [
    "#Write a Python program to Extract Unique values dictionary values?\n",
    "def uniq_val(dictionary):\n",
    "    dict1 = {ele for val in dictionary.values() for ele in val}\n",
    "    result = list(sorted(dict1)) \n",
    "    print(\"The unique values list is : \" + str(result)) "
   ]
  },
  {
   "cell_type": "code",
   "execution_count": 2,
   "metadata": {},
   "outputs": [],
   "source": [
    "#Write a Python program to find the sum of all items in a dictionary?\n",
    "def sum_dict(myDict):\n",
    "    sum = 0\n",
    "    for i in myDict:\n",
    "        sum = sum + myDict[i]\n",
    "      \n",
    "    return sum\n",
    "  "
   ]
  },
  {
   "cell_type": "code",
   "execution_count": 3,
   "metadata": {},
   "outputs": [],
   "source": [
    "#Write a Python program to Merging two Dictionaries?\n",
    "def merge(dict1,dict2):\n",
    "    print(dict2.update(dict1))"
   ]
  },
  {
   "cell_type": "code",
   "execution_count": 4,
   "metadata": {},
   "outputs": [],
   "source": [
    "#Write a Python program to convert key-values list to flat dictionary?\n",
    "def flat_dict(K,V):\n",
    "    result = {K[i]:V[i] for i in range(len(K))}\n",
    "    return result\n"
   ]
  },
  {
   "cell_type": "code",
   "execution_count": 7,
   "metadata": {},
   "outputs": [
    {
     "name": "stdout",
     "output_type": "stream",
     "text": [
      "OrderedDict([('feb', '2'), ('mar', '3'), ('apr', '4')])\n",
      "OrderedDict([('jan', '1'), ('feb', '2'), ('mar', '3'), ('apr', '4')])\n"
     ]
    }
   ],
   "source": [
    "#Write a Python program to insertion at the beginning in OrderedDict?\n",
    "from collections import OrderedDict\n",
    "ordered_dict = OrderedDict([('feb', '2'), ('mar', '3'), ('apr', '4')])\n",
    "print(ordered_dict)\n",
    "ordered_dict.update({'jan':'1'})\n",
    "ordered_dict.move_to_end('jan', last = False)\n",
    "print(ordered_dict)"
   ]
  },
  {
   "cell_type": "code",
   "execution_count": 8,
   "metadata": {},
   "outputs": [],
   "source": [
    "#Write a Python program to check order of character in string using OrderedDict()?\n",
    "def checkOrder(input, pattern): \n",
    "    dict = OrderedDict.fromkeys(input) \n",
    "    ptrlen = 0\n",
    "    for key,value in dict.items(): \n",
    "        if (key == pattern[ptrlen]): \n",
    "            ptrlen = ptrlen + 1\n",
    "          \n",
    "        if (ptrlen == (len(pattern))): \n",
    "            return 'true'\n",
    "    return 'false'"
   ]
  },
  {
   "cell_type": "code",
   "execution_count": 9,
   "metadata": {},
   "outputs": [],
   "source": [
    "#Write a Python program to sort Python Dictionaries by Key or Value?\n",
    "def di(dict1):\n",
    "    \n",
    "    dict2 = OrderedDict(sorted(dict1.items()))\n",
    "    print(dict2)"
   ]
  }
 ],
 "metadata": {
  "kernelspec": {
   "display_name": "Python 3",
   "language": "python",
   "name": "python3"
  },
  "language_info": {
   "codemirror_mode": {
    "name": "ipython",
    "version": 3
   },
   "file_extension": ".py",
   "mimetype": "text/x-python",
   "name": "python",
   "nbconvert_exporter": "python",
   "pygments_lexer": "ipython3",
   "version": "3.8.5"
  }
 },
 "nbformat": 4,
 "nbformat_minor": 4
}
